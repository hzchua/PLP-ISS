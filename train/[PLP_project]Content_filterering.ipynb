{
  "nbformat": 4,
  "nbformat_minor": 0,
  "metadata": {
    "colab": {
      "provenance": []
    },
    "kernelspec": {
      "name": "python3",
      "display_name": "Python 3"
    },
    "language_info": {
      "name": "python"
    }
  },
  "cells": [
    {
      "cell_type": "code",
      "execution_count": 1,
      "metadata": {
        "colab": {
          "base_uri": "https://localhost:8080/"
        },
        "id": "Esr4iumWd5Xj",
        "outputId": "4466e64f-ea61-41e0-f82f-0dc4f8c70ab5"
      },
      "outputs": [
        {
          "output_type": "stream",
          "name": "stderr",
          "text": [
            "[nltk_data] Downloading package punkt to /root/nltk_data...\n",
            "[nltk_data]   Unzipping tokenizers/punkt.zip.\n",
            "[nltk_data] Downloading package stopwords to /root/nltk_data...\n",
            "[nltk_data]   Unzipping corpora/stopwords.zip.\n",
            "[nltk_data] Downloading package wordnet to /root/nltk_data...\n",
            "[nltk_data] Downloading package omw-1.4 to /root/nltk_data...\n"
          ]
        }
      ],
      "source": [
        "import pandas as pd\n",
        "import numpy as np\n",
        "import matplotlib.pyplot as plt\n",
        "import nltk\n",
        "from nltk import word_tokenize\n",
        "from sklearn.feature_extraction.text import CountVectorizer, TfidfVectorizer\n",
        "from sklearn.metrics.pairwise import cosine_similarity\n",
        "from sklearn.neighbors import NearestNeighbors\n",
        "from sklearn.metrics.pairwise import linear_kernel\n",
        "nltk.download('punkt')\n",
        "from nltk.corpus import stopwords\n",
        "nltk.download('stopwords')\n",
        "from nltk.stem.wordnet import WordNetLemmatizer\n",
        "nltk.download('wordnet')\n",
        "nltk.download('omw-1.4')\n",
        "from nltk.tokenize import RegexpTokenizer"
      ]
    },
    {
      "cell_type": "code",
      "source": [
        "import pickle"
      ],
      "metadata": {
        "id": "LVg3vq8-zEZh"
      },
      "execution_count": 13,
      "outputs": []
    },
    {
      "cell_type": "code",
      "source": [
        "df2=pd.read_csv(\"df_CA_Summarization_filtered.csv\")"
      ],
      "metadata": {
        "id": "uAzh2JL3ReKo"
      },
      "execution_count": 2,
      "outputs": []
    },
    {
      "cell_type": "code",
      "source": [
        "df2.head()"
      ],
      "metadata": {
        "colab": {
          "base_uri": "https://localhost:8080/",
          "height": 716
        },
        "id": "OUhlA60UU8c0",
        "outputId": "8cef997b-824b-4d11-fde7-5c69cefb2c05"
      },
      "execution_count": null,
      "outputs": [
        {
          "output_type": "execute_result",
          "data": {
            "text/plain": [
              "   Unnamed: 0  Unnamed: 0.1  \\\n",
              "0           0             0   \n",
              "1           2             3   \n",
              "2           3             7   \n",
              "3           5            16   \n",
              "4           6            18   \n",
              "\n",
              "                                           education   gPlusUserId  \\\n",
              "0  [['[]'; '[]'; '[]'; '[]'; '[]'; '6']; ['[\"The ...  1.002152e+20   \n",
              "1  [['[]'; '[]'; '[]'; '[]'; '[]'; '6']; ['[\"Univ...  1.019804e+20   \n",
              "2  [['[]'; '[]'; '[]'; '[]'; '[]'; '6']; ['[\"Univ...  1.029165e+20   \n",
              "3  [['[]'; '[]'; '[]'; '[]'; '[]'; '6']; ['[\"Texa...  1.060633e+20   \n",
              "4          [['[]'; '[]'; '[]'; '[]'; '[]'; '6']; []]  1.074869e+20   \n",
              "\n",
              "                                            address  closed  \\\n",
              "0     ['546 University Ave'; 'Palo Alto; CA 94301']   False   \n",
              "1  ['655 Divisadero St'; 'San Francisco; CA 94117']   False   \n",
              "2        ['355 11th St'; 'San Francisco; CA 94103']   False   \n",
              "3     ['6530 Sunset Blvd'; 'Los Angeles; CA 90028']   False   \n",
              "4     ['2298 Market St'; 'San Francisco; CA 94114']   False   \n",
              "\n",
              "                        gps  \\\n",
              "0  [37.448889, -122.158481]   \n",
              "1  [37.775721, -122.438054]   \n",
              "2  [37.771291, -122.413113]   \n",
              "3  [34.097787, -118.332712]   \n",
              "4   [37.76459, -122.432918]   \n",
              "\n",
              "                                               hours  \\\n",
              "0  [['Monday'; '[[\"11:30 am--2:30 pm\"];[\"5:00--9:...   \n",
              "1  [['Monday'; '[[\"Closed\"]]'; '1']; ['Tuesday'; ...   \n",
              "2  [['Monday'; '[[\"6:00--10:00 pm\"]]'; '1']; ['Tu...   \n",
              "3  [['Monday'; '[[\"11:30 am--10:30 pm\"]]']; ['Tue...   \n",
              "4  [['Monday'; '[[\"7:00 am--1:00 am\"]]'; '1']; ['...   \n",
              "\n",
              "                              name           phone  ...  \\\n",
              "0                         Tamarine  (650) 325-8500  ...   \n",
              "1                        BAR CRUDO  (415) 409-0679  ...   \n",
              "2                     Bar Agricole  (415) 355-9400  ...   \n",
              "3  Cat and Fiddle Pub & Restaurant  (323) 468-3800  ...   \n",
              "4                       Cafe Flore  (415) 621-8579  ...   \n",
              "\n",
              "                                                jobs         loc  \\\n",
              "0  [['Google'; 'Engineer'; '[[];[1;1;2011];1]'; '...  California   \n",
              "1  [['Retailigence'; 'Director of Business Develo...  California   \n",
              "2  [['Farmer Brownstein Jaeger LLP'; 'Partner'; '...  California   \n",
              "3  [[\"McDonald's\"; 'Burger Bitch'; '[]'; 'http://...  California   \n",
              "4  [['YouTube'; 'Web Developer'; '[[1;1;2011];[1;...  California   \n",
              "\n",
              "                                      cleaned_review  \\\n",
              "0  bit expensive lunch specials reasonable excell...   \n",
              "1  would normally consider foofoo based portion s...   \n",
              "2   drinks outshine food great place amiable evening   \n",
              "3  brings back time spent uk patio great atmosphe...   \n",
              "4  standard goto meal anytime day great outdoor s...   \n",
              "\n",
              "                                     cleaned_summary  \\\n",
              "0  bit expensive but lunch specials are reasonabl...   \n",
              "1  the crudo is made up of pure deliciousness nei...   \n",
              "2  drinks outshine the food here but great place ...   \n",
              "3  the patio is great atmosphere don think would ...   \n",
              "4  great outdoor seating supposedly they have fre...   \n",
              "\n",
              "                                   cleaned_education  \\\n",
              "0              university minnesota computer science   \n",
              "1     university missouri rolla computer engineering   \n",
              "2  university california berkeley http www freeba...   \n",
              "3    texas university http www freebase com view ccs   \n",
              "4                                                NaN   \n",
              "\n",
              "                              cleaned_address  \\\n",
              "0     546 university ave palo alto; ca 94301    \n",
              "1  655 divisadero st san francisco; ca 94117    \n",
              "2        355 11th st san francisco; ca 94103    \n",
              "3     6530 sunset blvd los angeles; ca 90028    \n",
              "4     2298 market st san francisco; ca 94114    \n",
              "\n",
              "                                       cleaned_hours  \\\n",
              "0  monday 11:30 am; 2:30 pm ;5:00; 9:00 pm tuesda...   \n",
              "1  monday closed tuesday 5:00; 10:00 pm wednesday...   \n",
              "2  monday 6:00; 10:00 pm tuesday 6:00; 10:00 pm w...   \n",
              "3  monday 11:30 am; 10:30 pm tuesday 11:30 am; 11...   \n",
              "4  monday 7:00 am; 1:00 am tuesday 7:00 am; 1:00 ...   \n",
              "\n",
              "                                  cleaned_categories  \\\n",
              "0  restaurant asian restaurant southeast asian re...   \n",
              "1                 restaurant bar seafood restaurant    \n",
              "2                                    bar restaurant    \n",
              "3                restaurant bar historical landmark    \n",
              "4                       cafe restaurant coffee shop    \n",
              "\n",
              "                                        cleaned_jobs sentiment_VADER  \n",
              "0                      google engineer ;1;1;2011 ;1           0.7227  \n",
              "1  retailigence director of business development ...          0.8519  \n",
              "2              farmer brownstein jaeger llp partner           0.7684  \n",
              "3  mcdonald; burger bitch http://www.freebase.com...          0.6249  \n",
              "4  youtube web developer 1;1;2011 ;1;1;2011 ;1 ve...          0.5719  \n",
              "\n",
              "[5 rows x 27 columns]"
            ],
            "text/html": [
              "\n",
              "  <div id=\"df-270c57f3-9083-4b2c-91f3-12caf1d2790c\">\n",
              "    <div class=\"colab-df-container\">\n",
              "      <div>\n",
              "<style scoped>\n",
              "    .dataframe tbody tr th:only-of-type {\n",
              "        vertical-align: middle;\n",
              "    }\n",
              "\n",
              "    .dataframe tbody tr th {\n",
              "        vertical-align: top;\n",
              "    }\n",
              "\n",
              "    .dataframe thead th {\n",
              "        text-align: right;\n",
              "    }\n",
              "</style>\n",
              "<table border=\"1\" class=\"dataframe\">\n",
              "  <thead>\n",
              "    <tr style=\"text-align: right;\">\n",
              "      <th></th>\n",
              "      <th>Unnamed: 0</th>\n",
              "      <th>Unnamed: 0.1</th>\n",
              "      <th>education</th>\n",
              "      <th>gPlusUserId</th>\n",
              "      <th>address</th>\n",
              "      <th>closed</th>\n",
              "      <th>gps</th>\n",
              "      <th>hours</th>\n",
              "      <th>name</th>\n",
              "      <th>phone</th>\n",
              "      <th>...</th>\n",
              "      <th>jobs</th>\n",
              "      <th>loc</th>\n",
              "      <th>cleaned_review</th>\n",
              "      <th>cleaned_summary</th>\n",
              "      <th>cleaned_education</th>\n",
              "      <th>cleaned_address</th>\n",
              "      <th>cleaned_hours</th>\n",
              "      <th>cleaned_categories</th>\n",
              "      <th>cleaned_jobs</th>\n",
              "      <th>sentiment_VADER</th>\n",
              "    </tr>\n",
              "  </thead>\n",
              "  <tbody>\n",
              "    <tr>\n",
              "      <th>0</th>\n",
              "      <td>0</td>\n",
              "      <td>0</td>\n",
              "      <td>[['[]'; '[]'; '[]'; '[]'; '[]'; '6']; ['[\"The ...</td>\n",
              "      <td>1.002152e+20</td>\n",
              "      <td>['546 University Ave'; 'Palo Alto; CA 94301']</td>\n",
              "      <td>False</td>\n",
              "      <td>[37.448889, -122.158481]</td>\n",
              "      <td>[['Monday'; '[[\"11:30 am--2:30 pm\"];[\"5:00--9:...</td>\n",
              "      <td>Tamarine</td>\n",
              "      <td>(650) 325-8500</td>\n",
              "      <td>...</td>\n",
              "      <td>[['Google'; 'Engineer'; '[[];[1;1;2011];1]'; '...</td>\n",
              "      <td>California</td>\n",
              "      <td>bit expensive lunch specials reasonable excell...</td>\n",
              "      <td>bit expensive but lunch specials are reasonabl...</td>\n",
              "      <td>university minnesota computer science</td>\n",
              "      <td>546 university ave palo alto; ca 94301</td>\n",
              "      <td>monday 11:30 am; 2:30 pm ;5:00; 9:00 pm tuesda...</td>\n",
              "      <td>restaurant asian restaurant southeast asian re...</td>\n",
              "      <td>google engineer ;1;1;2011 ;1</td>\n",
              "      <td>0.7227</td>\n",
              "    </tr>\n",
              "    <tr>\n",
              "      <th>1</th>\n",
              "      <td>2</td>\n",
              "      <td>3</td>\n",
              "      <td>[['[]'; '[]'; '[]'; '[]'; '[]'; '6']; ['[\"Univ...</td>\n",
              "      <td>1.019804e+20</td>\n",
              "      <td>['655 Divisadero St'; 'San Francisco; CA 94117']</td>\n",
              "      <td>False</td>\n",
              "      <td>[37.775721, -122.438054]</td>\n",
              "      <td>[['Monday'; '[[\"Closed\"]]'; '1']; ['Tuesday'; ...</td>\n",
              "      <td>BAR CRUDO</td>\n",
              "      <td>(415) 409-0679</td>\n",
              "      <td>...</td>\n",
              "      <td>[['Retailigence'; 'Director of Business Develo...</td>\n",
              "      <td>California</td>\n",
              "      <td>would normally consider foofoo based portion s...</td>\n",
              "      <td>the crudo is made up of pure deliciousness nei...</td>\n",
              "      <td>university missouri rolla computer engineering</td>\n",
              "      <td>655 divisadero st san francisco; ca 94117</td>\n",
              "      <td>monday closed tuesday 5:00; 10:00 pm wednesday...</td>\n",
              "      <td>restaurant bar seafood restaurant</td>\n",
              "      <td>retailigence director of business development ...</td>\n",
              "      <td>0.8519</td>\n",
              "    </tr>\n",
              "    <tr>\n",
              "      <th>2</th>\n",
              "      <td>3</td>\n",
              "      <td>7</td>\n",
              "      <td>[['[]'; '[]'; '[]'; '[]'; '[]'; '6']; ['[\"Univ...</td>\n",
              "      <td>1.029165e+20</td>\n",
              "      <td>['355 11th St'; 'San Francisco; CA 94103']</td>\n",
              "      <td>False</td>\n",
              "      <td>[37.771291, -122.413113]</td>\n",
              "      <td>[['Monday'; '[[\"6:00--10:00 pm\"]]'; '1']; ['Tu...</td>\n",
              "      <td>Bar Agricole</td>\n",
              "      <td>(415) 355-9400</td>\n",
              "      <td>...</td>\n",
              "      <td>[['Farmer Brownstein Jaeger LLP'; 'Partner'; '...</td>\n",
              "      <td>California</td>\n",
              "      <td>drinks outshine food great place amiable evening</td>\n",
              "      <td>drinks outshine the food here but great place ...</td>\n",
              "      <td>university california berkeley http www freeba...</td>\n",
              "      <td>355 11th st san francisco; ca 94103</td>\n",
              "      <td>monday 6:00; 10:00 pm tuesday 6:00; 10:00 pm w...</td>\n",
              "      <td>bar restaurant</td>\n",
              "      <td>farmer brownstein jaeger llp partner</td>\n",
              "      <td>0.7684</td>\n",
              "    </tr>\n",
              "    <tr>\n",
              "      <th>3</th>\n",
              "      <td>5</td>\n",
              "      <td>16</td>\n",
              "      <td>[['[]'; '[]'; '[]'; '[]'; '[]'; '6']; ['[\"Texa...</td>\n",
              "      <td>1.060633e+20</td>\n",
              "      <td>['6530 Sunset Blvd'; 'Los Angeles; CA 90028']</td>\n",
              "      <td>False</td>\n",
              "      <td>[34.097787, -118.332712]</td>\n",
              "      <td>[['Monday'; '[[\"11:30 am--10:30 pm\"]]']; ['Tue...</td>\n",
              "      <td>Cat and Fiddle Pub &amp; Restaurant</td>\n",
              "      <td>(323) 468-3800</td>\n",
              "      <td>...</td>\n",
              "      <td>[[\"McDonald's\"; 'Burger Bitch'; '[]'; 'http://...</td>\n",
              "      <td>California</td>\n",
              "      <td>brings back time spent uk patio great atmosphe...</td>\n",
              "      <td>the patio is great atmosphere don think would ...</td>\n",
              "      <td>texas university http www freebase com view ccs</td>\n",
              "      <td>6530 sunset blvd los angeles; ca 90028</td>\n",
              "      <td>monday 11:30 am; 10:30 pm tuesday 11:30 am; 11...</td>\n",
              "      <td>restaurant bar historical landmark</td>\n",
              "      <td>mcdonald; burger bitch http://www.freebase.com...</td>\n",
              "      <td>0.6249</td>\n",
              "    </tr>\n",
              "    <tr>\n",
              "      <th>4</th>\n",
              "      <td>6</td>\n",
              "      <td>18</td>\n",
              "      <td>[['[]'; '[]'; '[]'; '[]'; '[]'; '6']; []]</td>\n",
              "      <td>1.074869e+20</td>\n",
              "      <td>['2298 Market St'; 'San Francisco; CA 94114']</td>\n",
              "      <td>False</td>\n",
              "      <td>[37.76459, -122.432918]</td>\n",
              "      <td>[['Monday'; '[[\"7:00 am--1:00 am\"]]'; '1']; ['...</td>\n",
              "      <td>Cafe Flore</td>\n",
              "      <td>(415) 621-8579</td>\n",
              "      <td>...</td>\n",
              "      <td>[['YouTube'; 'Web Developer'; '[[1;1;2011];[1;...</td>\n",
              "      <td>California</td>\n",
              "      <td>standard goto meal anytime day great outdoor s...</td>\n",
              "      <td>great outdoor seating supposedly they have fre...</td>\n",
              "      <td>NaN</td>\n",
              "      <td>2298 market st san francisco; ca 94114</td>\n",
              "      <td>monday 7:00 am; 1:00 am tuesday 7:00 am; 1:00 ...</td>\n",
              "      <td>cafe restaurant coffee shop</td>\n",
              "      <td>youtube web developer 1;1;2011 ;1;1;2011 ;1 ve...</td>\n",
              "      <td>0.5719</td>\n",
              "    </tr>\n",
              "  </tbody>\n",
              "</table>\n",
              "<p>5 rows × 27 columns</p>\n",
              "</div>\n",
              "      <button class=\"colab-df-convert\" onclick=\"convertToInteractive('df-270c57f3-9083-4b2c-91f3-12caf1d2790c')\"\n",
              "              title=\"Convert this dataframe to an interactive table.\"\n",
              "              style=\"display:none;\">\n",
              "        \n",
              "  <svg xmlns=\"http://www.w3.org/2000/svg\" height=\"24px\"viewBox=\"0 0 24 24\"\n",
              "       width=\"24px\">\n",
              "    <path d=\"M0 0h24v24H0V0z\" fill=\"none\"/>\n",
              "    <path d=\"M18.56 5.44l.94 2.06.94-2.06 2.06-.94-2.06-.94-.94-2.06-.94 2.06-2.06.94zm-11 1L8.5 8.5l.94-2.06 2.06-.94-2.06-.94L8.5 2.5l-.94 2.06-2.06.94zm10 10l.94 2.06.94-2.06 2.06-.94-2.06-.94-.94-2.06-.94 2.06-2.06.94z\"/><path d=\"M17.41 7.96l-1.37-1.37c-.4-.4-.92-.59-1.43-.59-.52 0-1.04.2-1.43.59L10.3 9.45l-7.72 7.72c-.78.78-.78 2.05 0 2.83L4 21.41c.39.39.9.59 1.41.59.51 0 1.02-.2 1.41-.59l7.78-7.78 2.81-2.81c.8-.78.8-2.07 0-2.86zM5.41 20L4 18.59l7.72-7.72 1.47 1.35L5.41 20z\"/>\n",
              "  </svg>\n",
              "      </button>\n",
              "      \n",
              "  <style>\n",
              "    .colab-df-container {\n",
              "      display:flex;\n",
              "      flex-wrap:wrap;\n",
              "      gap: 12px;\n",
              "    }\n",
              "\n",
              "    .colab-df-convert {\n",
              "      background-color: #E8F0FE;\n",
              "      border: none;\n",
              "      border-radius: 50%;\n",
              "      cursor: pointer;\n",
              "      display: none;\n",
              "      fill: #1967D2;\n",
              "      height: 32px;\n",
              "      padding: 0 0 0 0;\n",
              "      width: 32px;\n",
              "    }\n",
              "\n",
              "    .colab-df-convert:hover {\n",
              "      background-color: #E2EBFA;\n",
              "      box-shadow: 0px 1px 2px rgba(60, 64, 67, 0.3), 0px 1px 3px 1px rgba(60, 64, 67, 0.15);\n",
              "      fill: #174EA6;\n",
              "    }\n",
              "\n",
              "    [theme=dark] .colab-df-convert {\n",
              "      background-color: #3B4455;\n",
              "      fill: #D2E3FC;\n",
              "    }\n",
              "\n",
              "    [theme=dark] .colab-df-convert:hover {\n",
              "      background-color: #434B5C;\n",
              "      box-shadow: 0px 1px 3px 1px rgba(0, 0, 0, 0.15);\n",
              "      filter: drop-shadow(0px 1px 2px rgba(0, 0, 0, 0.3));\n",
              "      fill: #FFFFFF;\n",
              "    }\n",
              "  </style>\n",
              "\n",
              "      <script>\n",
              "        const buttonEl =\n",
              "          document.querySelector('#df-270c57f3-9083-4b2c-91f3-12caf1d2790c button.colab-df-convert');\n",
              "        buttonEl.style.display =\n",
              "          google.colab.kernel.accessAllowed ? 'block' : 'none';\n",
              "\n",
              "        async function convertToInteractive(key) {\n",
              "          const element = document.querySelector('#df-270c57f3-9083-4b2c-91f3-12caf1d2790c');\n",
              "          const dataTable =\n",
              "            await google.colab.kernel.invokeFunction('convertToInteractive',\n",
              "                                                     [key], {});\n",
              "          if (!dataTable) return;\n",
              "\n",
              "          const docLinkHtml = 'Like what you see? Visit the ' +\n",
              "            '<a target=\"_blank\" href=https://colab.research.google.com/notebooks/data_table.ipynb>data table notebook</a>'\n",
              "            + ' to learn more about interactive tables.';\n",
              "          element.innerHTML = '';\n",
              "          dataTable['output_type'] = 'display_data';\n",
              "          await google.colab.output.renderOutput(dataTable, element);\n",
              "          const docLink = document.createElement('div');\n",
              "          docLink.innerHTML = docLinkHtml;\n",
              "          element.appendChild(docLink);\n",
              "        }\n",
              "      </script>\n",
              "    </div>\n",
              "  </div>\n",
              "  "
            ]
          },
          "metadata": {},
          "execution_count": 35
        }
      ]
    },
    {
      "cell_type": "code",
      "source": [
        "mapping = pd.Series(df2.index,index = df2['name'])\n",
        "mapping"
      ],
      "metadata": {
        "colab": {
          "base_uri": "https://localhost:8080/"
        },
        "id": "vTNgEFADnLey",
        "outputId": "7b2d7333-418d-4729-926a-7e0e1b0af749"
      },
      "execution_count": null,
      "outputs": [
        {
          "output_type": "execute_result",
          "data": {
            "text/plain": [
              "name\n",
              "Tamarine                               0\n",
              "Blue Fig                               1\n",
              "Umami Burger                           2\n",
              "BAR CRUDO                              3\n",
              "Southern Pacific Brewing               4\n",
              "                                    ... \n",
              "Naja's Place                        2084\n",
              "Crow's Nest Restaurant              2090\n",
              "The Kitchen Restaurant              2209\n",
              "Olive Cafe                          2647\n",
              "Espana's Southwest Bar and Grill    2703\n",
              "Length: 347, dtype: int64"
            ]
          },
          "metadata": {},
          "execution_count": 77
        }
      ]
    },
    {
      "cell_type": "code",
      "source": [
        "with open('mappingTable.pkl', 'wb') as file:\n",
        "      \n",
        "    # A new file will be created\n",
        "    pickle.dump(mapping, file)"
      ],
      "metadata": {
        "id": "yBlbN5kp0jjz"
      },
      "execution_count": null,
      "outputs": []
    },
    {
      "cell_type": "code",
      "source": [
        "type(mapping)"
      ],
      "metadata": {
        "colab": {
          "base_uri": "https://localhost:8080/"
        },
        "id": "jt8AHNQexaS5",
        "outputId": "e5cd645b-345a-4856-f7ff-5fee708e6157"
      },
      "execution_count": null,
      "outputs": [
        {
          "output_type": "execute_result",
          "data": {
            "text/plain": [
              "pandas.core.series.Series"
            ]
          },
          "metadata": {},
          "execution_count": 6
        }
      ]
    },
    {
      "cell_type": "code",
      "source": [
        "df2.columns"
      ],
      "metadata": {
        "colab": {
          "base_uri": "https://localhost:8080/"
        },
        "id": "a0nUNLg6yyKE",
        "outputId": "5dda9de7-2007-4514-cedf-900b0acffe8e"
      },
      "execution_count": null,
      "outputs": [
        {
          "output_type": "execute_result",
          "data": {
            "text/plain": [
              "Index(['Unnamed: 0', 'Unnamed: 0.1', 'education', 'gPlusUserId', 'address',\n",
              "       'closed', 'gps', 'hours', 'name', 'phone', 'price', 'categories',\n",
              "       'gPlusPlaceId', 'rating', 'reviewText', 'reviewCount', 'userCount',\n",
              "       'jobs', 'loc', 'cleaned_review', 'cleaned_summary', 'cleaned_education',\n",
              "       'cleaned_address', 'cleaned_hours', 'cleaned_categories',\n",
              "       'cleaned_jobs', 'sentiment_VADER'],\n",
              "      dtype='object')"
            ]
          },
          "metadata": {},
          "execution_count": 36
        }
      ]
    },
    {
      "cell_type": "code",
      "source": [
        "####### Recommendation without specific category\n",
        "## Find the most preferred restaurant by person\n",
        "\n",
        "#def pref_Rest (userID):\n",
        "#  df1=pd.read_pickle('df1.pkl')\n",
        "#  bestSent=df1.sort_values(['rating'],ascending=False).groupby(['gPlusUserId'],as_index=False)[['gPlusUserId','name','rating']].first()\n",
        "#  restName=bestSent[\"name\"].iloc[bestSent.index[bestSent[\"gPlusUserId\"]== userID]].values[0]\n",
        "#  return restName\n",
        "\n",
        "\n"
      ],
      "metadata": {
        "id": "lwO-AsI4VA6e"
      },
      "execution_count": null,
      "outputs": []
    },
    {
      "cell_type": "code",
      "source": [
        "bestSent=df1.sort_values(['rating'],ascending=False).groupby(['gPlusUserId'],as_index=False)[['gPlusUserId','name','rating']].first()\n",
        "restName=bestSent[\"name\"].iloc[bestSent.index[bestSent[\"gPlusUserId\"]== str(userID)]].values[0]"
      ],
      "metadata": {
        "id": "_74j-BtA8MdE"
      },
      "execution_count": null,
      "outputs": []
    },
    {
      "cell_type": "code",
      "source": [
        "df2.to_pickle(\"df1.pkl\")"
      ],
      "metadata": {
        "id": "L2_qM91bGPeh"
      },
      "execution_count": null,
      "outputs": []
    },
    {
      "cell_type": "code",
      "source": [
        "with open('mappingTable.pkl', 'rb') as file:\n",
        "      \n",
        "    # Call load method to deserialze\n",
        "    mapping = pickle.load(file)\n",
        "print(mapping)"
      ],
      "metadata": {
        "colab": {
          "base_uri": "https://localhost:8080/"
        },
        "id": "WGpk8xnsCiMq",
        "outputId": "949388f6-8c5d-4bf1-aa59-29bb1a0ea463"
      },
      "execution_count": 15,
      "outputs": [
        {
          "output_type": "stream",
          "name": "stdout",
          "text": [
            "name\n",
            "Tamarine                               0\n",
            "Blue Fig                               1\n",
            "Umami Burger                           2\n",
            "BAR CRUDO                              3\n",
            "Southern Pacific Brewing               4\n",
            "                                    ... \n",
            "Naja's Place                        2084\n",
            "Crow's Nest Restaurant              2090\n",
            "The Kitchen Restaurant              2209\n",
            "Olive Cafe                          2647\n",
            "Espana's Southwest Bar and Grill    2703\n",
            "Length: 347, dtype: int64\n"
          ]
        }
      ]
    },
    {
      "cell_type": "code",
      "source": [
        "category_dummy =df2['categories'].str.join('|').str.get_dummies()\n",
        "similarity_matrix = linear_kernel(category_dummy,category_dummy)\n",
        "similarity_matrix"
      ],
      "metadata": {
        "id": "yKd77KrJSgs9"
      },
      "execution_count": null,
      "outputs": []
    },
    {
      "cell_type": "code",
      "source": [
        "np.save(\"similarity_matrix.npy\",similarity_matrix)"
      ],
      "metadata": {
        "id": "blqfa8rW9YVI"
      },
      "execution_count": null,
      "outputs": []
    },
    {
      "cell_type": "code",
      "source": [
        "similarity_matrix = np.load('similarity_matrix.npy')"
      ],
      "metadata": {
        "id": "y8RcNgTTBgJQ"
      },
      "execution_count": 10,
      "outputs": []
    },
    {
      "cell_type": "code",
      "source": [
        "print(similarity_matrix)"
      ],
      "metadata": {
        "colab": {
          "base_uri": "https://localhost:8080/"
        },
        "id": "bmaJ6c8s59_i",
        "outputId": "25bc2255-3b57-4452-fd90-a5a63348407c"
      },
      "execution_count": 11,
      "outputs": [
        {
          "output_type": "stream",
          "name": "stdout",
          "text": [
            "[[3. 1. 1. ... 1. 1. 1.]\n",
            " [1. 2. 1. ... 1. 2. 1.]\n",
            " [1. 1. 3. ... 1. 1. 2.]\n",
            " ...\n",
            " [1. 1. 1. ... 3. 1. 1.]\n",
            " [1. 2. 1. ... 1. 3. 1.]\n",
            " [1. 1. 2. ... 1. 1. 3.]]\n"
          ]
        }
      ]
    },
    {
      "cell_type": "code",
      "source": [
        "def recommend_restaurant(userID=1.002151589e+20):\n",
        "  df1=pd.read_csv('df_CA_Summarization_filtered.csv')\n",
        "  with open('mappingTable.pkl', 'rb') as file:\n",
        "      \n",
        "    # Call load method to deserialze\n",
        "    mapping = pickle.load(file)\n",
        "  similarity_matrix = np.load('similarity_matrix.npy')\n",
        "  bestSent=df1.sort_values(['rating'],ascending=False).groupby(['gPlusUserId'],as_index=False)[['gPlusUserId','name','sentiment_VADER']].first()\n",
        "  restaurantChosen=bestSent[\"name\"].iloc[bestSent.index[bestSent[\"gPlusUserId\"]== userID]].values[0]\n",
        "  restaurant_index = mapping[restaurantChosen]\n",
        "  #get similarity values with other restaurants\n",
        "  #similarity_score is the list of index and similarity matrix\n",
        "  similarity_score = list(enumerate(similarity_matrix[restaurant_index]))\n",
        "  #sort in descending order the similarity score of movie inputted with all the other movies\n",
        "  similarity_score = sorted(similarity_score, key=lambda x: x[1], reverse=True)\n",
        "  # Get the scores of the 15 most similar movies. Ignore the first movie.\n",
        "  similarity_score = similarity_score[1:4]\n",
        "  #return movie names using the mapping series\n",
        "  restaurant_index = [i[0] for i in similarity_score]\n",
        "  #return (\"Top 3 restaurants: 1. \"+str(df1['name'].iloc[restaurant_index].values[0])+\" 2. \"+str(df1['name'].iloc[restaurant_index].values[1])+\" 3. \"+str(df1['name'].iloc[restaurant_index].values[2]))\n",
        "  return (pd.DataFrame({'Name':df1['name'].iloc[restaurant_index],'Categories':df1['categories'].iloc[restaurant_index]}))\n"
      ],
      "metadata": {
        "id": "Ghf6a4BHprTG"
      },
      "execution_count": 15,
      "outputs": []
    }
  ]
}